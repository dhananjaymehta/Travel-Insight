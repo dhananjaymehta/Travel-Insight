{
 "cells": [
  {
   "cell_type": "markdown",
   "metadata": {},
   "source": [
    "# Trend Analysis - Graph Viz"
   ]
  },
  {
   "cell_type": "code",
   "execution_count": 7,
   "metadata": {
    "collapsed": true
   },
   "outputs": [],
   "source": [
    "import pandas as pd\n",
    "import praw\n",
    "from cytoolz import take\n",
    "from datetime import datetime\n",
    "import matplotlib.pyplot as plt\n",
    "#%matplotlib inline\n"
   ]
  },
  {
   "cell_type": "markdown",
   "metadata": {},
   "source": [
    "## Using Python Reddit API Wrapper to get the data "
   ]
  },
  {
   "cell_type": "code",
   "execution_count": null,
   "metadata": {
    "collapsed": true
   },
   "outputs": [],
   "source": [
    "# defining wrapper object\n",
    "reddit_wrapper= praw.Reddit(client_id='98vLAKPv_wZ84g', \n",
    "                    client_secret='JmIlMu11ULstnyGPUpTdaaO498k',\n",
    "                    user_agent='travel_subreddit')"
   ]
  },
  {
   "cell_type": "code",
   "execution_count": null,
   "metadata": {
    "collapsed": true
   },
   "outputs": [],
   "source": [
    "# accessing subreddit\n",
    "sub_reddit=\"travel\"\n",
    "subreddit=reddit_wrapper.subreddit(sub_reddit)\n"
   ]
  },
  {
   "cell_type": "markdown",
   "metadata": {},
   "source": [
    "# Reading Input Data file"
   ]
  },
  {
   "cell_type": "code",
   "execution_count": 2,
   "metadata": {
    "collapsed": true
   },
   "outputs": [],
   "source": [
    "f1=\"../data/submission.tsv\"\n",
    "f2=\"../data/comments.tsv\"\n",
    "f3=\"../data/replies.tsv\""
   ]
  },
  {
   "cell_type": "code",
   "execution_count": 3,
   "metadata": {
    "collapsed": true
   },
   "outputs": [],
   "source": [
    "#Reading submission df \n",
    "submission_df=pd.read_csv(f1, sep='\\t')"
   ]
  },
  {
   "cell_type": "code",
   "execution_count": 6,
   "metadata": {},
   "outputs": [
    {
     "data": {
      "text/plain": [
       "Index(['submission_id', 'submission_date', 'submission_year',\n",
       "       'submission_month', 'submission_day', 'submission_author', 'title'],\n",
       "      dtype='object')"
      ]
     },
     "execution_count": 6,
     "metadata": {},
     "output_type": "execute_result"
    }
   ],
   "source": [
    "submission_df.columns"
   ]
  },
  {
   "cell_type": "code",
   "execution_count": 90,
   "metadata": {
    "collapsed": true
   },
   "outputs": [],
   "source": [
    "def generate_dataframe(input_file, columns_list, record_length):\n",
    "    data_dict= dict([(key, []) for key in columns_list])\n",
    "    # read file\n",
    "    with open(input_file, \"r\") as filereader:\n",
    "        filereader.readline()\n",
    "        for line in filereader:\n",
    "            try:\n",
    "                data = line.strip().split(\"\\t\")\n",
    "                print(data)\n",
    "                if len(data)==len(columns_list):\n",
    "                    for _col_ind, _col_name in enumerate(columns_list):\n",
    "                        data_dict[_col_name].append(data[_col_ind])\n",
    "            except Exception as ex:\n",
    "                #logger.warning(\"trouble reading the record due to {}\".format(ex))\n",
    "                print(\"trouble reading the record due to {}\".format(ex))\n",
    "    return data_dict"
   ]
  },
  {
   "cell_type": "code",
   "execution_count": 94,
   "metadata": {
    "collapsed": true,
    "scrolled": true
   },
   "outputs": [],
   "source": [
    "COMMENTS_COLS = ['comments_id', 'submission_id','comment_date', 'comment_year',\n",
    "                 'comment_month', 'comment_day', 'comment_author', 'comment']\n",
    "REPLIES_COLS = ['reply_id', 'comments_id', 'submission_id', 'reply_date', 'reply_year',\n",
    "                'reply_month', 'reply_day', 'reply_author', 'reply']\n",
    "#test=generate_dataframe(f3,REPLIES_COLS,9)\n"
   ]
  },
  {
   "cell_type": "code",
   "execution_count": 7,
   "metadata": {},
   "outputs": [
    {
     "name": "stdout",
     "output_type": "stream",
     "text": [
      "['Hanging out with my new friend on the NK side of the DMZ']\n",
      "['e7yi5eq', '9owz7j', '2018-10-17 20:48:32', '2018', '10', '17', 'None']\n"
     ]
    }
   ],
   "source": [
    "#Reading comments df \n",
    "cnt=0\n",
    "comments_temp={'comments_id':[], 'submission_id':[], 'comment_date':[], 'comment_year':[],\n",
    "                               'comment_month':[], 'comment_day':[], 'comment_author':[], 'comment':[]}\n",
    "with open(f2, \"r\") as filereader:\n",
    "        data_schema = filereader.readline()\n",
    "        #logging.info(\"data has following schema - {schema}\".format(schema=data_schema))\n",
    "        for line in filereader:\n",
    "            try:\n",
    "                cnt+=1\n",
    "                #print(line)\n",
    "                data = line.strip().split(\"\\t\")\n",
    "                if len(data)==8:\n",
    "                    comments_temp['comments_id'].append(data[0])\n",
    "                    comments_temp['submission_id'].append(data[1])\n",
    "                    comments_temp['comment_date'].append(data[2])\n",
    "                    comments_temp['comment_year'].append(data[3])\n",
    "                    comments_temp['comment_month'].append(data[4])\n",
    "                    comments_temp['comment_day'].append(data[5])\n",
    "                    comments_temp['comment_author'].append(data[6])\n",
    "                    comments_temp['comment'].append(data[7])\n",
    "                #if len(data)>8:\n",
    "                else:\n",
    "                    print(data)\n",
    "                #    print(data,len(data))\n",
    "                #if cnt >10:\n",
    "                #    break\n",
    "            except:\n",
    "                print(data)\n"
   ]
  },
  {
   "cell_type": "code",
   "execution_count": 9,
   "metadata": {},
   "outputs": [
    {
     "data": {
      "text/plain": [
       "Index(['comments_id', 'submission_id', 'comment_date', 'comment_year',\n",
       "       'comment_month', 'comment_day', 'comment_author', 'comment'],\n",
       "      dtype='object')"
      ]
     },
     "execution_count": 9,
     "metadata": {},
     "output_type": "execute_result"
    }
   ],
   "source": [
    "comments_df=pd.DataFrame(comments_temp)\n",
    "comments_df.columns"
   ]
  },
  {
   "cell_type": "code",
   "execution_count": 10,
   "metadata": {
    "collapsed": true
   },
   "outputs": [],
   "source": [
    "# reading replies df \n",
    "\n",
    "cnt=0\n",
    "reply_temp={'reply_id':[], 'comments_id':[], 'submission_id':[], 'reply_date':[], 'reply_year':[],\n",
    "                               'reply_month':[], 'reply_day':[], 'reply_author':[], 'reply':[]}\n",
    "with open(f3, \"r\") as filereader:\n",
    "        data_schema = filereader.readline()\n",
    "        #logging.info(\"data has following schema - {schema}\".format(schema=data_schema))\n",
    "        for line in filereader:\n",
    "            cnt+=1\n",
    "            try:\n",
    "                #print(line)\n",
    "                data = line.strip().split(\"\\t\")\n",
    "                if len(data)==9:\n",
    "                    reply_temp['reply_id'].append(data[0])\n",
    "                    reply_temp['comments_id'].append(data[1])\n",
    "                    reply_temp['submission_id'].append(data[2])\n",
    "                    reply_temp['reply_date'].append(data[3])\n",
    "                    reply_temp['reply_year'].append(data[4])\n",
    "                    reply_temp['reply_month'].append(data[5])\n",
    "                    reply_temp['reply_day'].append(data[6])\n",
    "                    reply_temp['reply_author'].append(data[7])\n",
    "                    reply_temp['reply'].append(data[8])\n",
    "                    #if len(data)>8:\n",
    "                    #else:\n",
    "                    #print(data,len(data),\"try\")\n",
    "            #    print(data,len(data))\n",
    "            except Exception as ex:\n",
    "                print(ex)\n",
    "                print(data)\n",
    "            #if cnt >10:\n",
    "            #    break"
   ]
  },
  {
   "cell_type": "code",
   "execution_count": 11,
   "metadata": {},
   "outputs": [
    {
     "data": {
      "text/plain": [
       "Index(['reply_id', 'comments_id', 'submission_id', 'reply_date', 'reply_year',\n",
       "       'reply_month', 'reply_day', 'reply_author', 'reply'],\n",
       "      dtype='object')"
      ]
     },
     "execution_count": 11,
     "metadata": {},
     "output_type": "execute_result"
    }
   ],
   "source": [
    "replies_df=pd.DataFrame(reply_temp)\n",
    "replies_df.columns"
   ]
  },
  {
   "cell_type": "markdown",
   "metadata": {},
   "source": [
    "# Data Exploration"
   ]
  },
  {
   "cell_type": "code",
   "execution_count": null,
   "metadata": {
    "collapsed": true
   },
   "outputs": [],
   "source": [
    "#number of unique users who has posted the submission\n",
    "print (\"Unique submission author - \", len(submission_df['submission_author'].unique()))"
   ]
  },
  {
   "cell_type": "code",
   "execution_count": null,
   "metadata": {
    "collapsed": true
   },
   "outputs": [],
   "source": [
    "#checking number of unique dates\n",
    "print (\"Unique submission dates - \", len(submission_df['submission_date'].unique()))"
   ]
  },
  {
   "cell_type": "code",
   "execution_count": null,
   "metadata": {
    "collapsed": true
   },
   "outputs": [],
   "source": [
    "# getting number of unique yers people have posted \n",
    "print (\"Unique submission years - \", len(submission_df['submission_year'].unique()))"
   ]
  },
  {
   "cell_type": "code",
   "execution_count": null,
   "metadata": {
    "collapsed": true
   },
   "outputs": [],
   "source": [
    "# getting number of unique months people have posted \n",
    "print (\"Unique months - \", len(submission_df['submission_month'].unique()))"
   ]
  },
  {
   "cell_type": "code",
   "execution_count": null,
   "metadata": {
    "collapsed": true
   },
   "outputs": [],
   "source": [
    "# getting number of unique day people have posted \n",
    "print (\"Unique day - \", len(submission_df['submission_day'].unique()))"
   ]
  },
  {
   "cell_type": "code",
   "execution_count": null,
   "metadata": {
    "collapsed": true
   },
   "outputs": [],
   "source": [
    "#checking if there is null or blank values in the dataset\n",
    "submission_df.isnull().sum()"
   ]
  },
  {
   "cell_type": "code",
   "execution_count": null,
   "metadata": {
    "collapsed": true
   },
   "outputs": [],
   "source": [
    "comments_df.isnull().sum()"
   ]
  },
  {
   "cell_type": "code",
   "execution_count": null,
   "metadata": {
    "collapsed": true
   },
   "outputs": [],
   "source": [
    "replies_df.isnull().sum()"
   ]
  },
  {
   "cell_type": "code",
   "execution_count": null,
   "metadata": {
    "collapsed": true
   },
   "outputs": [],
   "source": [
    "comments_df.head()"
   ]
  },
  {
   "cell_type": "code",
   "execution_count": null,
   "metadata": {
    "collapsed": true
   },
   "outputs": [],
   "source": [
    "### changing datatype of date column to datetime and year,month,day to int\n",
    "\n",
    "\n",
    "submission_df['submission_date'] = pd.to_datetime(submission_df['submission_date'])\n",
    "comments_df['comment_date'] = pd.to_datetime(comments_df['comment_date'])\n",
    "replies_df['reply_date'] = pd.to_datetime(replies_df['reply_date'])\n",
    "\n",
    "submission_df = submission_df.astype({\"submission_year\": int,\"submission_month\": int, \"submission_day\": int})\n",
    "comments_df = comments_df.astype({\"comment_year\": int,\"comment_month\": int, \"comment_day\": int})\n",
    "replies_df = replies_df.astype({\"reply_year\": int,\"reply_month\": int, \"reply_day\": int})"
   ]
  },
  {
   "cell_type": "code",
   "execution_count": null,
   "metadata": {
    "collapsed": true
   },
   "outputs": [],
   "source": [
    "submission_df.dtypes"
   ]
  },
  {
   "cell_type": "code",
   "execution_count": null,
   "metadata": {
    "collapsed": true
   },
   "outputs": [],
   "source": [
    "comments_df.dtypes"
   ]
  },
  {
   "cell_type": "code",
   "execution_count": null,
   "metadata": {
    "collapsed": true
   },
   "outputs": [],
   "source": [
    "replies_df.dtypes"
   ]
  },
  {
   "cell_type": "markdown",
   "metadata": {},
   "source": [
    "# Trend Analysis"
   ]
  },
  {
   "cell_type": "code",
   "execution_count": 4,
   "metadata": {
    "collapsed": true
   },
   "outputs": [],
   "source": [
    "#grouping submission by month\n",
    "grouped_month=submission_df.groupby('submission_month')\n",
    "grouped_year=submission_df.groupby('submission_year')"
   ]
  },
  {
   "cell_type": "code",
   "execution_count": 5,
   "metadata": {},
   "outputs": [
    {
     "data": {
      "text/html": [
       "<div>\n",
       "<style scoped>\n",
       "    .dataframe tbody tr th:only-of-type {\n",
       "        vertical-align: middle;\n",
       "    }\n",
       "\n",
       "    .dataframe tbody tr th {\n",
       "        vertical-align: top;\n",
       "    }\n",
       "\n",
       "    .dataframe thead th {\n",
       "        text-align: right;\n",
       "    }\n",
       "</style>\n",
       "<table border=\"1\" class=\"dataframe\">\n",
       "  <thead>\n",
       "    <tr style=\"text-align: right;\">\n",
       "      <th></th>\n",
       "      <th>submission_id</th>\n",
       "      <th>submission_date</th>\n",
       "      <th>submission_year</th>\n",
       "      <th>submission_day</th>\n",
       "      <th>submission_author</th>\n",
       "      <th>title</th>\n",
       "    </tr>\n",
       "    <tr>\n",
       "      <th>submission_month</th>\n",
       "      <th></th>\n",
       "      <th></th>\n",
       "      <th></th>\n",
       "      <th></th>\n",
       "      <th></th>\n",
       "      <th></th>\n",
       "    </tr>\n",
       "  </thead>\n",
       "  <tbody>\n",
       "    <tr>\n",
       "      <th>1</th>\n",
       "      <td>6</td>\n",
       "      <td>6</td>\n",
       "      <td>6</td>\n",
       "      <td>6</td>\n",
       "      <td>6</td>\n",
       "      <td>6</td>\n",
       "    </tr>\n",
       "    <tr>\n",
       "      <th>2</th>\n",
       "      <td>5</td>\n",
       "      <td>5</td>\n",
       "      <td>5</td>\n",
       "      <td>5</td>\n",
       "      <td>5</td>\n",
       "      <td>5</td>\n",
       "    </tr>\n",
       "    <tr>\n",
       "      <th>3</th>\n",
       "      <td>9</td>\n",
       "      <td>9</td>\n",
       "      <td>9</td>\n",
       "      <td>9</td>\n",
       "      <td>9</td>\n",
       "      <td>9</td>\n",
       "    </tr>\n",
       "    <tr>\n",
       "      <th>4</th>\n",
       "      <td>4</td>\n",
       "      <td>4</td>\n",
       "      <td>4</td>\n",
       "      <td>4</td>\n",
       "      <td>4</td>\n",
       "      <td>4</td>\n",
       "    </tr>\n",
       "    <tr>\n",
       "      <th>5</th>\n",
       "      <td>13</td>\n",
       "      <td>13</td>\n",
       "      <td>13</td>\n",
       "      <td>13</td>\n",
       "      <td>13</td>\n",
       "      <td>13</td>\n",
       "    </tr>\n",
       "    <tr>\n",
       "      <th>6</th>\n",
       "      <td>16</td>\n",
       "      <td>16</td>\n",
       "      <td>16</td>\n",
       "      <td>16</td>\n",
       "      <td>16</td>\n",
       "      <td>16</td>\n",
       "    </tr>\n",
       "    <tr>\n",
       "      <th>7</th>\n",
       "      <td>11</td>\n",
       "      <td>11</td>\n",
       "      <td>11</td>\n",
       "      <td>11</td>\n",
       "      <td>11</td>\n",
       "      <td>11</td>\n",
       "    </tr>\n",
       "    <tr>\n",
       "      <th>8</th>\n",
       "      <td>5</td>\n",
       "      <td>5</td>\n",
       "      <td>5</td>\n",
       "      <td>5</td>\n",
       "      <td>5</td>\n",
       "      <td>5</td>\n",
       "    </tr>\n",
       "    <tr>\n",
       "      <th>9</th>\n",
       "      <td>7</td>\n",
       "      <td>7</td>\n",
       "      <td>7</td>\n",
       "      <td>7</td>\n",
       "      <td>7</td>\n",
       "      <td>7</td>\n",
       "    </tr>\n",
       "    <tr>\n",
       "      <th>10</th>\n",
       "      <td>9</td>\n",
       "      <td>9</td>\n",
       "      <td>9</td>\n",
       "      <td>9</td>\n",
       "      <td>9</td>\n",
       "      <td>9</td>\n",
       "    </tr>\n",
       "    <tr>\n",
       "      <th>11</th>\n",
       "      <td>6</td>\n",
       "      <td>6</td>\n",
       "      <td>6</td>\n",
       "      <td>6</td>\n",
       "      <td>6</td>\n",
       "      <td>6</td>\n",
       "    </tr>\n",
       "    <tr>\n",
       "      <th>12</th>\n",
       "      <td>9</td>\n",
       "      <td>9</td>\n",
       "      <td>9</td>\n",
       "      <td>9</td>\n",
       "      <td>9</td>\n",
       "      <td>9</td>\n",
       "    </tr>\n",
       "  </tbody>\n",
       "</table>\n",
       "</div>"
      ],
      "text/plain": [
       "                  submission_id  submission_date  submission_year  \\\n",
       "submission_month                                                    \n",
       "1                             6                6                6   \n",
       "2                             5                5                5   \n",
       "3                             9                9                9   \n",
       "4                             4                4                4   \n",
       "5                            13               13               13   \n",
       "6                            16               16               16   \n",
       "7                            11               11               11   \n",
       "8                             5                5                5   \n",
       "9                             7                7                7   \n",
       "10                            9                9                9   \n",
       "11                            6                6                6   \n",
       "12                            9                9                9   \n",
       "\n",
       "                  submission_day  submission_author  title  \n",
       "submission_month                                            \n",
       "1                              6                  6      6  \n",
       "2                              5                  5      5  \n",
       "3                              9                  9      9  \n",
       "4                              4                  4      4  \n",
       "5                             13                 13     13  \n",
       "6                             16                 16     16  \n",
       "7                             11                 11     11  \n",
       "8                              5                  5      5  \n",
       "9                              7                  7      7  \n",
       "10                             9                  9      9  \n",
       "11                             6                  6      6  \n",
       "12                             9                  9      9  "
      ]
     },
     "execution_count": 5,
     "metadata": {},
     "output_type": "execute_result"
    }
   ],
   "source": [
    "grouped_month.count()"
   ]
  },
  {
   "cell_type": "code",
   "execution_count": null,
   "metadata": {
    "collapsed": true
   },
   "outputs": [],
   "source": [
    "grouped_year.count()"
   ]
  },
  {
   "cell_type": "code",
   "execution_count": 13,
   "metadata": {
    "collapsed": true
   },
   "outputs": [],
   "source": [
    "#!pip3 install seaborn"
   ]
  },
  {
   "cell_type": "code",
   "execution_count": 20,
   "metadata": {},
   "outputs": [
    {
     "data": {
      "image/png": "[encoded data removed]",
      "text/plain": [
       "<Figure size 432x288 with 1 Axes>"
      ]
     },
     "metadata": {},
     "output_type": "display_data"
    }
   ],
   "source": [
    "import seaborn as sns\n",
    "fig, ax = plt.subplots()\n",
    "#plt.figure(figsize=(10,5))\n",
    "sns.set(style=\"whitegrid\")\n",
    "ax.set_ylabel('Submission Counts')\n",
    "ax.set_xlabel('Months')\n",
    "ax.set_title(r'Count of Submissions each month')\n",
    "plt.hist(submission_df['submission_month'])\n",
    "fig.tight_layout()\n",
    "#plt.show(figsize=(10,5))\n",
    "plt.savefig(\"submission_bar_chart.png\")"
   ]
  },
  {
   "cell_type": "code",
   "execution_count": 15,
   "metadata": {},
   "outputs": [
    {
     "data": {
      "image/png": "[encoded data removed]",
      "text/plain": [
       "<Figure size 432x288 with 1 Axes>"
      ]
     },
     "metadata": {},
     "output_type": "display_data"
    },
    {
     "data": {
      "text/plain": [
       "<Figure size 432x288 with 0 Axes>"
      ]
     },
     "metadata": {},
     "output_type": "display_data"
    }
   ],
   "source": []
  },
  {
   "cell_type": "code",
   "execution_count": 9,
   "metadata": {},
   "outputs": [
    {
     "data": {
      "text/plain": [
       "9"
      ]
     },
     "execution_count": 9,
     "metadata": {},
     "output_type": "execute_result"
    }
   ],
   "source": [
    "len(submission_df[submission_df['submission_month']==12])"
   ]
  },
  {
   "cell_type": "code",
   "execution_count": 10,
   "metadata": {},
   "outputs": [
    {
     "data": {
      "image/png": "[encoded data removed]",
      "text/plain": [
       "<Figure size 432x288 with 1 Axes>"
      ]
     },
     "metadata": {
      "needs_background": "light"
     },
     "output_type": "display_data"
    }
   ],
   "source": [
    "fig, ax = plt.subplots()\n",
    "\n",
    "ax.plot(grouped_month.count())\n",
    "ax.set_ylabel('Submission Counts')\n",
    "ax.set_xlabel('Months')\n",
    "ax.set_title(r'Trend Analysis for Submissions each month')\n",
    "\n",
    "plt.savefig(\"submission_line_chart.png\")"
   ]
  },
  {
   "cell_type": "markdown",
   "metadata": {},
   "source": [
    "# Comments "
   ]
  },
  {
   "cell_type": "code",
   "execution_count": 11,
   "metadata": {},
   "outputs": [
    {
     "ename": "NameError",
     "evalue": "name 'comments_df' is not defined",
     "output_type": "error",
     "traceback": [
      "\u001b[0;31m---------------------------------------------------------------------------\u001b[0m",
      "\u001b[0;31mNameError\u001b[0m                                 Traceback (most recent call last)",
      "\u001b[0;32m<ipython-input-11-19c02599949f>\u001b[0m in \u001b[0;36m<module>\u001b[0;34m\u001b[0m\n\u001b[1;32m      1\u001b[0m \u001b[0;31m#grouping comments by month\u001b[0m\u001b[0;34m\u001b[0m\u001b[0;34m\u001b[0m\u001b[0;34m\u001b[0m\u001b[0m\n\u001b[0;32m----> 2\u001b[0;31m \u001b[0mc_grouped_month\u001b[0m\u001b[0;34m=\u001b[0m\u001b[0mcomments_df\u001b[0m\u001b[0;34m.\u001b[0m\u001b[0mgroupby\u001b[0m\u001b[0;34m(\u001b[0m\u001b[0;34m'comment_month'\u001b[0m\u001b[0;34m)\u001b[0m\u001b[0;34m\u001b[0m\u001b[0;34m\u001b[0m\u001b[0m\n\u001b[0m\u001b[1;32m      3\u001b[0m \u001b[0mc_grouped_year\u001b[0m\u001b[0;34m=\u001b[0m\u001b[0mcomments_df\u001b[0m\u001b[0;34m.\u001b[0m\u001b[0mgroupby\u001b[0m\u001b[0;34m(\u001b[0m\u001b[0;34m'comment_year'\u001b[0m\u001b[0;34m)\u001b[0m\u001b[0;34m\u001b[0m\u001b[0;34m\u001b[0m\u001b[0m\n",
      "\u001b[0;31mNameError\u001b[0m: name 'comments_df' is not defined"
     ]
    }
   ],
   "source": [
    "#grouping comments by month\n",
    "c_grouped_month=comments_df.groupby('comment_month')\n",
    "c_grouped_year=comments_df.groupby('comment_year')"
   ]
  },
  {
   "cell_type": "code",
   "execution_count": null,
   "metadata": {
    "collapsed": true
   },
   "outputs": [],
   "source": [
    "c_grouped_month.count()"
   ]
  },
  {
   "cell_type": "code",
   "execution_count": null,
   "metadata": {
    "collapsed": true
   },
   "outputs": [],
   "source": [
    "fig, ax = plt.subplots()\n",
    "\n",
    "ax.plot(c_grouped_month.count())\n",
    "ax.set_ylabel('Comments Counts')\n",
    "ax.set_xlabel('Months')\n",
    "ax.set_title(r'Trend Analysis for Comments each month')\n",
    "\n",
    "plt.savefig(\"comments_line_chart.png\")"
   ]
  },
  {
   "cell_type": "code",
   "execution_count": null,
   "metadata": {
    "collapsed": true
   },
   "outputs": [],
   "source": [
    "fig, ax = plt.subplots()\n",
    "ax.set_ylabel('Comments Counts')\n",
    "ax.set_xlabel('Months')\n",
    "ax.set_title(r'Count of comments each month')\n",
    "plt.hist(comments_df['comment_month'])\n",
    "fig.tight_layout()\n",
    "plt.show()\n",
    "plt.savefig(\"comments_bar_chart.png\")"
   ]
  },
  {
   "cell_type": "markdown",
   "metadata": {},
   "source": [
    "# Replies"
   ]
  },
  {
   "cell_type": "code",
   "execution_count": null,
   "metadata": {
    "collapsed": true
   },
   "outputs": [],
   "source": [
    "#grouping comments by month\n",
    "r_grouped_month=replies_df.groupby('reply_month')\n",
    "r_grouped_year=replies_df.groupby('reply_year')"
   ]
  },
  {
   "cell_type": "code",
   "execution_count": null,
   "metadata": {
    "collapsed": true
   },
   "outputs": [],
   "source": [
    "r_grouped_month.count()"
   ]
  },
  {
   "cell_type": "code",
   "execution_count": null,
   "metadata": {
    "collapsed": true
   },
   "outputs": [],
   "source": [
    "fig, ax = plt.subplots()\n",
    "\n",
    "ax.plot(r_grouped_month.count())\n",
    "ax.set_ylabel('Replies Counts')\n",
    "ax.set_xlabel('Months')\n",
    "ax.set_title(r'Trend Analysis for Replies each month')\n",
    "plt.savefig(\"replies_line_chart.png\")"
   ]
  },
  {
   "cell_type": "code",
   "execution_count": null,
   "metadata": {
    "collapsed": true
   },
   "outputs": [],
   "source": [
    "fig, ax = plt.subplots()\n",
    "ax.set_ylabel('Replies Counts')\n",
    "ax.set_xlabel('Months')\n",
    "ax.set_title(r'Count of replies each month')\n",
    "plt.hist(replies_df['reply_month'])\n",
    "fig.tight_layout()\n",
    "plt.show()\n",
    "\n",
    "plt.savefig(\"replies_bar_chart.png\")"
   ]
  },
  {
   "cell_type": "markdown",
   "metadata": {},
   "source": [
    "# Generating Text Corpus"
   ]
  },
  {
   "cell_type": "code",
   "execution_count": null,
   "metadata": {
    "collapsed": true
   },
   "outputs": [],
   "source": [
    "submission_df.head()"
   ]
  },
  {
   "cell_type": "code",
   "execution_count": null,
   "metadata": {
    "collapsed": true
   },
   "outputs": [],
   "source": [
    "submission_df['title'][0]"
   ]
  },
  {
   "cell_type": "code",
   "execution_count": null,
   "metadata": {
    "collapsed": true
   },
   "outputs": [],
   "source": [
    "comments_df.head()"
   ]
  },
  {
   "cell_type": "code",
   "execution_count": null,
   "metadata": {
    "collapsed": true
   },
   "outputs": [],
   "source": [
    "replies_df.head()"
   ]
  },
  {
   "cell_type": "markdown",
   "metadata": {},
   "source": [
    "## Merging Replies"
   ]
  },
  {
   "cell_type": "code",
   "execution_count": 95,
   "metadata": {},
   "outputs": [
    {
     "data": {
      "text/html": [
       "<div>\n",
       "<style scoped>\n",
       "    .dataframe tbody tr th:only-of-type {\n",
       "        vertical-align: middle;\n",
       "    }\n",
       "\n",
       "    .dataframe tbody tr th {\n",
       "        vertical-align: top;\n",
       "    }\n",
       "\n",
       "    .dataframe thead th {\n",
       "        text-align: right;\n",
       "    }\n",
       "</style>\n",
       "<table border=\"1\" class=\"dataframe\">\n",
       "  <thead>\n",
       "    <tr style=\"text-align: right;\">\n",
       "      <th></th>\n",
       "      <th>reply_id</th>\n",
       "      <th>comments_id</th>\n",
       "      <th>submission_id</th>\n",
       "      <th>reply_date</th>\n",
       "      <th>reply_year</th>\n",
       "      <th>reply_month</th>\n",
       "      <th>reply_day</th>\n",
       "      <th>reply_author</th>\n",
       "      <th>reply</th>\n",
       "    </tr>\n",
       "  </thead>\n",
       "  <tbody>\n",
       "    <tr>\n",
       "      <th>0</th>\n",
       "      <td>dyhjk2a</td>\n",
       "      <td>dyhi85d</td>\n",
       "      <td>8h6aao</td>\n",
       "      <td>2018-05-05 12:28:47</td>\n",
       "      <td>2018</td>\n",
       "      <td>5</td>\n",
       "      <td>5</td>\n",
       "      <td>bonerdude420</td>\n",
       "      <td>I guess she's my type</td>\n",
       "    </tr>\n",
       "    <tr>\n",
       "      <th>1</th>\n",
       "      <td>dyhk85i</td>\n",
       "      <td>dyhi85d</td>\n",
       "      <td>8h6aao</td>\n",
       "      <td>2018-05-05 12:48:06</td>\n",
       "      <td>2018</td>\n",
       "      <td>5</td>\n",
       "      <td>5</td>\n",
       "      <td>CanadianUkr</td>\n",
       "      <td>Or they are so antisocial that they didn't sho...</td>\n",
       "    </tr>\n",
       "    <tr>\n",
       "      <th>2</th>\n",
       "      <td>dyhjt4w</td>\n",
       "      <td>dyhi85d</td>\n",
       "      <td>8h6aao</td>\n",
       "      <td>2018-05-05 12:36:07</td>\n",
       "      <td>2018</td>\n",
       "      <td>5</td>\n",
       "      <td>5</td>\n",
       "      <td>None</td>\n",
       "      <td>The way you broke up the sentence in the middl...</td>\n",
       "    </tr>\n",
       "    <tr>\n",
       "      <th>3</th>\n",
       "      <td>dyhp71i</td>\n",
       "      <td>dyhi85d</td>\n",
       "      <td>8h6aao</td>\n",
       "      <td>2018-05-05 14:45:58</td>\n",
       "      <td>2018</td>\n",
       "      <td>5</td>\n",
       "      <td>5</td>\n",
       "      <td>rutten187</td>\n",
       "      <td>Nice box, eh?</td>\n",
       "    </tr>\n",
       "  </tbody>\n",
       "</table>\n",
       "</div>"
      ],
      "text/plain": [
       "  reply_id comments_id submission_id           reply_date reply_year  \\\n",
       "0  dyhjk2a     dyhi85d        8h6aao  2018-05-05 12:28:47       2018   \n",
       "1  dyhk85i     dyhi85d        8h6aao  2018-05-05 12:48:06       2018   \n",
       "2  dyhjt4w     dyhi85d        8h6aao  2018-05-05 12:36:07       2018   \n",
       "3  dyhp71i     dyhi85d        8h6aao  2018-05-05 14:45:58       2018   \n",
       "\n",
       "  reply_month reply_day  reply_author  \\\n",
       "0           5         5  bonerdude420   \n",
       "1           5         5   CanadianUkr   \n",
       "2           5         5          None   \n",
       "3           5         5     rutten187   \n",
       "\n",
       "                                               reply  \n",
       "0                              I guess she's my type  \n",
       "1  Or they are so antisocial that they didn't sho...  \n",
       "2  The way you broke up the sentence in the middl...  \n",
       "3                                      Nice box, eh?  "
      ]
     },
     "execution_count": 95,
     "metadata": {},
     "output_type": "execute_result"
    }
   ],
   "source": [
    "replies_df.head(4)"
   ]
  },
  {
   "cell_type": "code",
   "execution_count": 155,
   "metadata": {},
   "outputs": [
    {
     "data": {
      "text/html": [
       "<div>\n",
       "<style scoped>\n",
       "    .dataframe tbody tr th:only-of-type {\n",
       "        vertical-align: middle;\n",
       "    }\n",
       "\n",
       "    .dataframe tbody tr th {\n",
       "        vertical-align: top;\n",
       "    }\n",
       "\n",
       "    .dataframe thead th {\n",
       "        text-align: right;\n",
       "    }\n",
       "</style>\n",
       "<table border=\"1\" class=\"dataframe\">\n",
       "  <thead>\n",
       "    <tr style=\"text-align: right;\">\n",
       "      <th></th>\n",
       "      <th>comments_id</th>\n",
       "      <th>submission_id</th>\n",
       "      <th>comment</th>\n",
       "    </tr>\n",
       "  </thead>\n",
       "  <tbody>\n",
       "    <tr>\n",
       "      <th>0</th>\n",
       "      <td>dyhi85d</td>\n",
       "      <td>8h6aao</td>\n",
       "      <td>It's strange, but I swear you and your new wif...</td>\n",
       "    </tr>\n",
       "    <tr>\n",
       "      <th>1</th>\n",
       "      <td>dyhfwly</td>\n",
       "      <td>8h6aao</td>\n",
       "      <td>That is really nice, u/bonerdude420Is she taki...</td>\n",
       "    </tr>\n",
       "    <tr>\n",
       "      <th>2</th>\n",
       "      <td>dyhdpyi</td>\n",
       "      <td>8h6aao</td>\n",
       "      <td>Taken near Murren in Oct 2016. Only people the...</td>\n",
       "    </tr>\n",
       "  </tbody>\n",
       "</table>\n",
       "</div>"
      ],
      "text/plain": [
       "  comments_id submission_id                                            comment\n",
       "0     dyhi85d        8h6aao  It's strange, but I swear you and your new wif...\n",
       "1     dyhfwly        8h6aao  That is really nice, u/bonerdude420Is she taki...\n",
       "2     dyhdpyi        8h6aao  Taken near Murren in Oct 2016. Only people the..."
      ]
     },
     "execution_count": 155,
     "metadata": {},
     "output_type": "execute_result"
    }
   ],
   "source": [
    "#def aggregate_replies_to_comments():\n",
    "# grouping replies by comments id\n",
    "grouped_replies=replies_df.groupby(['comments_id'])['reply'].apply(lambda x: \"%s\"% ','.join(x)).reset_index()\n",
    "# merging aggregated replies with comments\n",
    "#grouped_comments=pd.merge(comments_df,grouped_replies, on ='comments_id')\n",
    "grouped_comments = pd.merge(comments_df[['comments_id','submission_id','comment']], grouped_replies, on='comments_id')\n",
    "# joining \"comments and reply columns\"\n",
    "grouped_comments['comment']= grouped_comments['comment'] + grouped_comments['reply']\n",
    "# taking subset\n",
    "grouped_comments=\n",
    "grouped_comments.head(3)"
   ]
  },
  {
   "cell_type": "code",
   "execution_count": 160,
   "metadata": {},
   "outputs": [
    {
     "data": {
      "text/plain": [
       "1497"
      ]
     },
     "execution_count": 160,
     "metadata": {},
     "output_type": "execute_result"
    }
   ],
   "source": [
    "test=pd.read_csv(\"../data/aggregated_data/group_by_comments.csv\", )\n",
    "test.head(3)\n",
    "len(test.comment[0])"
   ]
  },
  {
   "cell_type": "code",
   "execution_count": 161,
   "metadata": {},
   "outputs": [
    {
     "data": {
      "text/html": [
       "<div>\n",
       "<style scoped>\n",
       "    .dataframe tbody tr th:only-of-type {\n",
       "        vertical-align: middle;\n",
       "    }\n",
       "\n",
       "    .dataframe tbody tr th {\n",
       "        vertical-align: top;\n",
       "    }\n",
       "\n",
       "    .dataframe thead th {\n",
       "        text-align: right;\n",
       "    }\n",
       "</style>\n",
       "<table border=\"1\" class=\"dataframe\">\n",
       "  <thead>\n",
       "    <tr style=\"text-align: right;\">\n",
       "      <th></th>\n",
       "      <th>reply_id</th>\n",
       "      <th>comments_id</th>\n",
       "      <th>submission_id</th>\n",
       "      <th>reply_date</th>\n",
       "      <th>reply_year</th>\n",
       "      <th>reply_month</th>\n",
       "      <th>reply_day</th>\n",
       "      <th>reply_author</th>\n",
       "      <th>reply</th>\n",
       "    </tr>\n",
       "  </thead>\n",
       "  <tbody>\n",
       "    <tr>\n",
       "      <th>0</th>\n",
       "      <td>dyhjk2a</td>\n",
       "      <td>dyhi85d</td>\n",
       "      <td>8h6aao</td>\n",
       "      <td>2018-05-05 12:28:47</td>\n",
       "      <td>2018</td>\n",
       "      <td>5</td>\n",
       "      <td>5</td>\n",
       "      <td>bonerdude420</td>\n",
       "      <td>I guess she's my type</td>\n",
       "    </tr>\n",
       "    <tr>\n",
       "      <th>1</th>\n",
       "      <td>dyhk85i</td>\n",
       "      <td>dyhi85d</td>\n",
       "      <td>8h6aao</td>\n",
       "      <td>2018-05-05 12:48:06</td>\n",
       "      <td>2018</td>\n",
       "      <td>5</td>\n",
       "      <td>5</td>\n",
       "      <td>CanadianUkr</td>\n",
       "      <td>Or they are so antisocial that they didn't sho...</td>\n",
       "    </tr>\n",
       "    <tr>\n",
       "      <th>2</th>\n",
       "      <td>dyhjt4w</td>\n",
       "      <td>dyhi85d</td>\n",
       "      <td>8h6aao</td>\n",
       "      <td>2018-05-05 12:36:07</td>\n",
       "      <td>2018</td>\n",
       "      <td>5</td>\n",
       "      <td>5</td>\n",
       "      <td>None</td>\n",
       "      <td>The way you broke up the sentence in the middl...</td>\n",
       "    </tr>\n",
       "  </tbody>\n",
       "</table>\n",
       "</div>"
      ],
      "text/plain": [
       "  reply_id comments_id submission_id           reply_date reply_year  \\\n",
       "0  dyhjk2a     dyhi85d        8h6aao  2018-05-05 12:28:47       2018   \n",
       "1  dyhk85i     dyhi85d        8h6aao  2018-05-05 12:48:06       2018   \n",
       "2  dyhjt4w     dyhi85d        8h6aao  2018-05-05 12:36:07       2018   \n",
       "\n",
       "  reply_month reply_day  reply_author  \\\n",
       "0           5         5  bonerdude420   \n",
       "1           5         5   CanadianUkr   \n",
       "2           5         5          None   \n",
       "\n",
       "                                               reply  \n",
       "0                              I guess she's my type  \n",
       "1  Or they are so antisocial that they didn't sho...  \n",
       "2  The way you broke up the sentence in the middl...  "
      ]
     },
     "execution_count": 161,
     "metadata": {},
     "output_type": "execute_result"
    }
   ],
   "source": [
    "#len(grouped_comments.submission_id.unique())\n",
    "grouped_replies.head(4)\n",
    "replies_df.head(3)"
   ]
  },
  {
   "cell_type": "code",
   "execution_count": 138,
   "metadata": {
    "collapsed": true
   },
   "outputs": [],
   "source": [
    "# Submission \n",
    "#grouped_comments.query(\"comments_id=='dyhi85d'\")\n",
    "grouped_comments2=grouped_comments.groupby(['submission_id'])['comment'].apply(lambda x: \"%s\"% ','.join(x)).reset_index()\n",
    "\n"
   ]
  },
  {
   "cell_type": "code",
   "execution_count": 145,
   "metadata": {},
   "outputs": [
    {
     "data": {
      "text/plain": [
       "(100, 2)"
      ]
     },
     "execution_count": 145,
     "metadata": {},
     "output_type": "execute_result"
    }
   ],
   "source": [
    "grouped_comments2.shape"
   ]
  },
  {
   "cell_type": "code",
   "execution_count": 139,
   "metadata": {},
   "outputs": [
    {
     "data": {
      "text/html": [
       "<div>\n",
       "<style scoped>\n",
       "    .dataframe tbody tr th:only-of-type {\n",
       "        vertical-align: middle;\n",
       "    }\n",
       "\n",
       "    .dataframe tbody tr th {\n",
       "        vertical-align: top;\n",
       "    }\n",
       "\n",
       "    .dataframe thead th {\n",
       "        text-align: right;\n",
       "    }\n",
       "</style>\n",
       "<table border=\"1\" class=\"dataframe\">\n",
       "  <thead>\n",
       "    <tr style=\"text-align: right;\">\n",
       "      <th></th>\n",
       "      <th>submission_id</th>\n",
       "      <th>comment</th>\n",
       "    </tr>\n",
       "  </thead>\n",
       "  <tbody>\n",
       "    <tr>\n",
       "      <th>0</th>\n",
       "      <td>813bmu</td>\n",
       "      <td>I just returned from 6 weeks in Arunachal Prad...</td>\n",
       "    </tr>\n",
       "    <tr>\n",
       "      <th>1</th>\n",
       "      <td>81a9w5</td>\n",
       "      <td>Fuck. There’s no better feeling than the feeli...</td>\n",
       "    </tr>\n",
       "    <tr>\n",
       "      <th>2</th>\n",
       "      <td>850ktw</td>\n",
       "      <td>You drove that all the way from New York? Wow....</td>\n",
       "    </tr>\n",
       "  </tbody>\n",
       "</table>\n",
       "</div>"
      ],
      "text/plain": [
       "  submission_id                                            comment\n",
       "0        813bmu  I just returned from 6 weeks in Arunachal Prad...\n",
       "1        81a9w5  Fuck. There’s no better feeling than the feeli...\n",
       "2        850ktw  You drove that all the way from New York? Wow...."
      ]
     },
     "execution_count": 139,
     "metadata": {},
     "output_type": "execute_result"
    }
   ],
   "source": [
    "grouped_comments2.head(3)"
   ]
  },
  {
   "cell_type": "code",
   "execution_count": 146,
   "metadata": {},
   "outputs": [
    {
     "data": {
      "text/plain": [
       "(100, 7)"
      ]
     },
     "execution_count": 146,
     "metadata": {},
     "output_type": "execute_result"
    }
   ],
   "source": [
    "#submission_df.head(3)\n",
    "submission_df.shape"
   ]
  },
  {
   "cell_type": "code",
   "execution_count": 142,
   "metadata": {
    "collapsed": true
   },
   "outputs": [],
   "source": [
    "grouped_submissions=pd.merge(submission_df,grouped_comments, on ='submission_id')"
   ]
  },
  {
   "cell_type": "code",
   "execution_count": 141,
   "metadata": {},
   "outputs": [
    {
     "data": {
      "text/html": [
       "<div>\n",
       "<style scoped>\n",
       "    .dataframe tbody tr th:only-of-type {\n",
       "        vertical-align: middle;\n",
       "    }\n",
       "\n",
       "    .dataframe tbody tr th {\n",
       "        vertical-align: top;\n",
       "    }\n",
       "\n",
       "    .dataframe thead th {\n",
       "        text-align: right;\n",
       "    }\n",
       "</style>\n",
       "<table border=\"1\" class=\"dataframe\">\n",
       "  <thead>\n",
       "    <tr style=\"text-align: right;\">\n",
       "      <th></th>\n",
       "      <th>submission_id</th>\n",
       "      <th>comment</th>\n",
       "    </tr>\n",
       "  </thead>\n",
       "  <tbody>\n",
       "    <tr>\n",
       "      <th>13</th>\n",
       "      <td>8h6aao</td>\n",
       "      <td>It's strange, but I swear you and your new wif...</td>\n",
       "    </tr>\n",
       "  </tbody>\n",
       "</table>\n",
       "</div>"
      ],
      "text/plain": [
       "   submission_id                                            comment\n",
       "13        8h6aao  It's strange, but I swear you and your new wif..."
      ]
     },
     "execution_count": 141,
     "metadata": {},
     "output_type": "execute_result"
    }
   ],
   "source": [
    "grouped_comments2.query('submission_id==\"8h6aao\"')"
   ]
  },
  {
   "cell_type": "code",
   "execution_count": 143,
   "metadata": {},
   "outputs": [
    {
     "data": {
      "text/plain": [
       "(10018, 9)"
      ]
     },
     "execution_count": 143,
     "metadata": {},
     "output_type": "execute_result"
    }
   ],
   "source": [
    "grouped_submissions.shape"
   ]
  },
  {
   "cell_type": "markdown",
   "metadata": {},
   "source": [
    "## Merging with comments"
   ]
  },
  {
   "cell_type": "code",
   "execution_count": 118,
   "metadata": {
    "collapsed": true
   },
   "outputs": [],
   "source": [
    "#merging comments and grouped replies dataframe to get two columns \"comments\" and \"replies\" for each comments id .\n",
    "\n",
    "grouped_comments=pd.merge(comments_df,grouped_replies, on ='comments_id')"
   ]
  },
  {
   "cell_type": "code",
   "execution_count": 119,
   "metadata": {
    "collapsed": true
   },
   "outputs": [],
   "source": [
    "# joining \"comments and reply columns\"\n",
    "grouped_comments['comment']= grouped_comments['comment'] + grouped_comments['reply']\n",
    "\n",
    "#selecting only comments and submission_id column\n",
    "grouped_comments=grouped_comments.iloc[:,[0,7]]"
   ]
  },
  {
   "cell_type": "code",
   "execution_count": 121,
   "metadata": {},
   "outputs": [
    {
     "data": {
      "text/html": [
       "<div>\n",
       "<style scoped>\n",
       "    .dataframe tbody tr th:only-of-type {\n",
       "        vertical-align: middle;\n",
       "    }\n",
       "\n",
       "    .dataframe tbody tr th {\n",
       "        vertical-align: top;\n",
       "    }\n",
       "\n",
       "    .dataframe thead th {\n",
       "        text-align: right;\n",
       "    }\n",
       "</style>\n",
       "<table border=\"1\" class=\"dataframe\">\n",
       "  <thead>\n",
       "    <tr style=\"text-align: right;\">\n",
       "      <th></th>\n",
       "      <th>comments_id</th>\n",
       "      <th>comment</th>\n",
       "    </tr>\n",
       "  </thead>\n",
       "  <tbody>\n",
       "    <tr>\n",
       "      <th>0</th>\n",
       "      <td>dyhi85d</td>\n",
       "      <td>It's strange, but I swear you and your new wif...</td>\n",
       "    </tr>\n",
       "    <tr>\n",
       "      <th>1</th>\n",
       "      <td>dyhfwly</td>\n",
       "      <td>That is really nice, u/bonerdude420Is she taki...</td>\n",
       "    </tr>\n",
       "    <tr>\n",
       "      <th>2</th>\n",
       "      <td>dyhdpyi</td>\n",
       "      <td>Taken near Murren in Oct 2016. Only people the...</td>\n",
       "    </tr>\n",
       "  </tbody>\n",
       "</table>\n",
       "</div>"
      ],
      "text/plain": [
       "  comments_id                                            comment\n",
       "0     dyhi85d  It's strange, but I swear you and your new wif...\n",
       "1     dyhfwly  That is really nice, u/bonerdude420Is she taki...\n",
       "2     dyhdpyi  Taken near Murren in Oct 2016. Only people the..."
      ]
     },
     "execution_count": 121,
     "metadata": {},
     "output_type": "execute_result"
    }
   ],
   "source": [
    "grouped_comments.head(3)"
   ]
  },
  {
   "cell_type": "code",
   "execution_count": 122,
   "metadata": {
    "collapsed": true
   },
   "outputs": [],
   "source": [
    "#combining all comment with same submission_id\n",
    "#grouped_comments=grouped_comments.groupby(['submission_id'])['comment'].apply(lambda x: \"%s\" % ', '.join(x)).reset_index()\n"
   ]
  },
  {
   "cell_type": "code",
   "execution_count": null,
   "metadata": {
    "collapsed": true,
    "scrolled": true
   },
   "outputs": [],
   "source": [
    "grouped_comments.head()"
   ]
  },
  {
   "cell_type": "markdown",
   "metadata": {},
   "source": [
    "## Merging  with Submission "
   ]
  },
  {
   "cell_type": "code",
   "execution_count": null,
   "metadata": {
    "collapsed": true
   },
   "outputs": [],
   "source": [
    "#merging submission and grouped comments dataframe to get two columns \"comments\" and \"submission\" for each submission id .\n",
    "grouped_submission=pd.merge(submission_df,grouped_comments, on ='submission_id')"
   ]
  },
  {
   "cell_type": "code",
   "execution_count": null,
   "metadata": {
    "collapsed": true
   },
   "outputs": [],
   "source": [
    "# joining \"comments and title columns\"\n",
    "grouped_submission['comment']= grouped_submission['title'] + grouped_submission['comment']\n",
    "\n",
    "#selecting only title and submission_id column\n",
    "grouped_submission=grouped_submission.iloc[:,[0,6,7]]"
   ]
  },
  {
   "cell_type": "code",
   "execution_count": null,
   "metadata": {
    "collapsed": true
   },
   "outputs": [],
   "source": [
    "#selecting only title and submission_id column\n",
    "grouped_submission=grouped_submission.iloc[:,[0,6,7]]"
   ]
  },
  {
   "cell_type": "code",
   "execution_count": null,
   "metadata": {
    "collapsed": true
   },
   "outputs": [],
   "source": [
    "grouped_submission.head()"
   ]
  },
  {
   "cell_type": "markdown",
   "metadata": {},
   "source": [
    "# Processing Text Data"
   ]
  },
  {
   "cell_type": "code",
   "execution_count": null,
   "metadata": {
    "collapsed": true
   },
   "outputs": [],
   "source": [
    "text_corpus=grouped_submission"
   ]
  },
  {
   "cell_type": "code",
   "execution_count": null,
   "metadata": {
    "collapsed": true
   },
   "outputs": [],
   "source": [
    "text_corpus.rename(index=str, columns={'title': 'submission_title', 'comment': 'text'},inplace=True)"
   ]
  },
  {
   "cell_type": "code",
   "execution_count": null,
   "metadata": {
    "collapsed": true
   },
   "outputs": [],
   "source": [
    "#writing text corpus to csv file\n",
    "text_corpus.to_csv(\"text_corpus.csv\",index=False)"
   ]
  },
  {
   "cell_type": "code",
   "execution_count": 4,
   "metadata": {
    "collapsed": true
   },
   "outputs": [],
   "source": [
    "#reading file from text corpus csv\n",
    "text_corpus=pd.read_csv(\"text_corpus.csv\")"
   ]
  },
  {
   "cell_type": "code",
   "execution_count": 5,
   "metadata": {},
   "outputs": [
    {
     "data": {
      "text/html": [
       "<div>\n",
       "<style scoped>\n",
       "    .dataframe tbody tr th:only-of-type {\n",
       "        vertical-align: middle;\n",
       "    }\n",
       "\n",
       "    .dataframe tbody tr th {\n",
       "        vertical-align: top;\n",
       "    }\n",
       "\n",
       "    .dataframe thead th {\n",
       "        text-align: right;\n",
       "    }\n",
       "</style>\n",
       "<table border=\"1\" class=\"dataframe\">\n",
       "  <thead>\n",
       "    <tr style=\"text-align: right;\">\n",
       "      <th></th>\n",
       "      <th>submission_id</th>\n",
       "      <th>submission_title</th>\n",
       "      <th>text</th>\n",
       "    </tr>\n",
       "  </thead>\n",
       "  <tbody>\n",
       "    <tr>\n",
       "      <th>0</th>\n",
       "      <td>8h6aao</td>\n",
       "      <td>Wife and I hate big social events and love tra...</td>\n",
       "      <td>Wife and I hate big social events and love tra...</td>\n",
       "    </tr>\n",
       "    <tr>\n",
       "      <th>1</th>\n",
       "      <td>95l2e6</td>\n",
       "      <td>The exact moment I took a step too close to th...</td>\n",
       "      <td>The exact moment I took a step too close to th...</td>\n",
       "    </tr>\n",
       "    <tr>\n",
       "      <th>2</th>\n",
       "      <td>8yj2tg</td>\n",
       "      <td>Wandering around Kyoto at night</td>\n",
       "      <td>Wandering around Kyoto at nightKyoto is amazin...</td>\n",
       "    </tr>\n",
       "    <tr>\n",
       "      <th>3</th>\n",
       "      <td>8i4939</td>\n",
       "      <td>I heard this place had stunning views but I ju...</td>\n",
       "      <td>I heard this place had stunning views but I ju...</td>\n",
       "    </tr>\n",
       "    <tr>\n",
       "      <th>4</th>\n",
       "      <td>85awza</td>\n",
       "      <td>Went to the top of the Eiffel Tower and there ...</td>\n",
       "      <td>Went to the top of the Eiffel Tower and there ...</td>\n",
       "    </tr>\n",
       "  </tbody>\n",
       "</table>\n",
       "</div>"
      ],
      "text/plain": [
       "  submission_id                                   submission_title  \\\n",
       "0        8h6aao  Wife and I hate big social events and love tra...   \n",
       "1        95l2e6  The exact moment I took a step too close to th...   \n",
       "2        8yj2tg                    Wandering around Kyoto at night   \n",
       "3        8i4939  I heard this place had stunning views but I ju...   \n",
       "4        85awza  Went to the top of the Eiffel Tower and there ...   \n",
       "\n",
       "                                                text  \n",
       "0  Wife and I hate big social events and love tra...  \n",
       "1  The exact moment I took a step too close to th...  \n",
       "2  Wandering around Kyoto at nightKyoto is amazin...  \n",
       "3  I heard this place had stunning views but I ju...  \n",
       "4  Went to the top of the Eiffel Tower and there ...  "
      ]
     },
     "execution_count": 5,
     "metadata": {},
     "output_type": "execute_result"
    }
   ],
   "source": [
    "text_corpus.head()"
   ]
  },
  {
   "cell_type": "code",
   "execution_count": null,
   "metadata": {
    "collapsed": true
   },
   "outputs": [],
   "source": [
    "text_corpus.shape"
   ]
  },
  {
   "cell_type": "markdown",
   "metadata": {},
   "source": [
    "# Cleaning Text Data\n",
    "1. Removing white space from start and end of string \n",
    "2. Removing URL and special character\n",
    "3. Lemmatization\n",
    "4. Removing stop words\n"
   ]
  },
  {
   "cell_type": "code",
   "execution_count": 6,
   "metadata": {
    "collapsed": true
   },
   "outputs": [],
   "source": [
    "import nltk\n",
    "from nltk.corpus import stopwords\n",
    "from nltk.stem.wordnet import WordNetLemmatizer\n",
    "stopWords = set(stopwords.words('english'))\n",
    "lt = WordNetLemmatizer()\n",
    "import re"
   ]
  },
  {
   "cell_type": "code",
   "execution_count": 7,
   "metadata": {
    "collapsed": true
   },
   "outputs": [],
   "source": [
    "def tokenize(text):\n",
    "    return [token.strip().lower() for token in text.split()]\n",
    "\n",
    "\n",
    "def remove_stop_words(text):\n",
    "     return [word for word in text if word not in stopWords]\n",
    "    \n",
    "def lemmatize(text):\n",
    "    return [(lt.lemmatize(x)) for x in text]"
   ]
  },
  {
   "cell_type": "code",
   "execution_count": 8,
   "metadata": {
    "collapsed": true
   },
   "outputs": [],
   "source": [
    "\n",
    "def clean_text(text):\n",
    "    #regex to remove URL from string \n",
    "    text=re.sub('http://\\S+|https://\\S+', '', text)    \n",
    "    #regex to remove special characters from string except [: ? ! . , ']\n",
    "    text=re.sub(r\"[^a-zA-Z0-9?!',.]\",\" \",text)\n",
    "    \n",
    "    tokenized_text=tokenize(text)\n",
    "    lemmatized_text=lemmatize(tokenized_text)\n",
    "    cleaned_text=remove_stop_words(lemmatized_text)\n",
    "\n",
    "    return ' '.join(token for token in cleaned_text)"
   ]
  },
  {
   "cell_type": "markdown",
   "metadata": {},
   "source": [
    "Approach 1: Using spacy to identify - Org , destinations, brands. Uses default library\n",
    "\n",
    "#### Expected:\n",
    "- Top_destination: Name of places, countries \n",
    "- Top_organization: hotel names, brands, airport name\n",
    "- Top product: travel type, activities\n",
    "\n",
    "\n",
    "#### Observation:\n",
    "- Top_destination: moderate result \n",
    "- Top_organization: bad result - gives org name but not related to travel\n",
    "- Top: product: bad - gives product/org name but not really relevant\n",
    "\n",
    "#### Work to improve NER recognition\n",
    "- Approach 1: From the received results, apply Word2Vec\n",
    "- Approach 2: Rule based parsing\n",
    "- Approach 3: Apply LDA \n",
    "\n",
    "TODO: \n",
    "- Extract Aspects/Nouns from Submission topics's text to generate tags for this submission.\n",
    "- Include submission column\n",
    "\n",
    ">`eg: I would like to go to Switzerland for my marriage` - Switzerland, Marriage"
   ]
  },
  {
   "cell_type": "markdown",
   "metadata": {},
   "source": [
    "### Main"
   ]
  },
  {
   "cell_type": "code",
   "execution_count": 9,
   "metadata": {
    "collapsed": true
   },
   "outputs": [],
   "source": [
    "# clean data before processing \n",
    "text_corpus['cleaned_text']=text_corpus['text'].apply(clean_text)"
   ]
  },
  {
   "cell_type": "code",
   "execution_count": 10,
   "metadata": {
    "collapsed": true
   },
   "outputs": [],
   "source": [
    "#removing previous \"text\" column\n",
    "text_corpus=text_corpus.iloc[:,[0,1,3]]"
   ]
  },
  {
   "cell_type": "code",
   "execution_count": 11,
   "metadata": {},
   "outputs": [
    {
     "data": {
      "text/html": [
       "<div>\n",
       "<style scoped>\n",
       "    .dataframe tbody tr th:only-of-type {\n",
       "        vertical-align: middle;\n",
       "    }\n",
       "\n",
       "    .dataframe tbody tr th {\n",
       "        vertical-align: top;\n",
       "    }\n",
       "\n",
       "    .dataframe thead th {\n",
       "        text-align: right;\n",
       "    }\n",
       "</style>\n",
       "<table border=\"1\" class=\"dataframe\">\n",
       "  <thead>\n",
       "    <tr style=\"text-align: right;\">\n",
       "      <th></th>\n",
       "      <th>submission_id</th>\n",
       "      <th>submission_title</th>\n",
       "      <th>cleaned_text</th>\n",
       "    </tr>\n",
       "  </thead>\n",
       "  <tbody>\n",
       "    <tr>\n",
       "      <th>0</th>\n",
       "      <td>8h6aao</td>\n",
       "      <td>Wife and I hate big social events and love tra...</td>\n",
       "      <td>wife hate big social event love traveling. rat...</td>\n",
       "    </tr>\n",
       "    <tr>\n",
       "      <th>1</th>\n",
       "      <td>95l2e6</td>\n",
       "      <td>The exact moment I took a step too close to th...</td>\n",
       "      <td>exact moment took step close border north sout...</td>\n",
       "    </tr>\n",
       "    <tr>\n",
       "      <th>2</th>\n",
       "      <td>8yj2tg</td>\n",
       "      <td>Wandering around Kyoto at night</td>\n",
       "      <td>wandering around kyoto nightkyoto amazing. one...</td>\n",
       "    </tr>\n",
       "  </tbody>\n",
       "</table>\n",
       "</div>"
      ],
      "text/plain": [
       "  submission_id                                   submission_title  \\\n",
       "0        8h6aao  Wife and I hate big social events and love tra...   \n",
       "1        95l2e6  The exact moment I took a step too close to th...   \n",
       "2        8yj2tg                    Wandering around Kyoto at night   \n",
       "\n",
       "                                        cleaned_text  \n",
       "0  wife hate big social event love traveling. rat...  \n",
       "1  exact moment took step close border north sout...  \n",
       "2  wandering around kyoto nightkyoto amazing. one...  "
      ]
     },
     "execution_count": 11,
     "metadata": {},
     "output_type": "execute_result"
    }
   ],
   "source": [
    "text_corpus.head(3)"
   ]
  },
  {
   "cell_type": "code",
   "execution_count": null,
   "metadata": {
    "collapsed": true
   },
   "outputs": [],
   "source": [
    "#writing text corpus to csv file\n",
    "text_corpus.to_csv(\"text_corpus.csv\",index=False)"
   ]
  }
 ],
 "metadata": {
  "kernelspec": {
   "display_name": "Python 3",
   "language": "python",
   "name": "python3"
  },
  "language_info": {
   "codemirror_mode": {
    "name": "ipython",
    "version": 3
   },
   "file_extension": ".py",
   "mimetype": "text/x-python",
   "name": "python",
   "nbconvert_exporter": "python",
   "pygments_lexer": "ipython3",
   "version": "3.6.2"
  }
 },
 "nbformat": 4,
 "nbformat_minor": 2
}
